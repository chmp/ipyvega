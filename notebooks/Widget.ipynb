{
 "cells": [
  {
   "cell_type": "code",
   "execution_count": 1,
   "metadata": {},
   "outputs": [],
   "source": [
    "import random\n",
    "import time"
   ]
  },
  {
   "cell_type": "code",
   "execution_count": 2,
   "metadata": {},
   "outputs": [],
   "source": [
    "spec_no_data = {\n",
    "    \"$schema\": \"https://vega.github.io/schema/vega-lite/v3.json\",\n",
    "    \"mark\": \"point\",\n",
    "    \"data\": {\n",
    "        \"name\": \"data\",\n",
    "        \"values\": [],\n",
    "    },\n",
    "    \"encoding\": {\n",
    "        \"x\": {\"type\": \"quantitative\", \"field\": \"x\"},\n",
    "        \"y\": {\"type\": \"quantitative\", \"field\": \"y\"},\n",
    "    }\n",
    "}\n",
    "\n",
    "spec_with_data = spec_no_data.copy()\n",
    "spec_with_data[\"data\"] = {\n",
    "    \"name\": \"data\",\n",
    "    \"values\": [\n",
    "        {\"x\": random.gauss(0, 1), \"y\": random.gauss(0, 1), \"t\": t}\n",
    "        for t in range(5)\n",
    "    ],\n",
    "}"
   ]
  },
  {
   "cell_type": "markdown",
   "metadata": {},
   "source": [
    "# Static Vega Plot"
   ]
  },
  {
   "cell_type": "code",
   "execution_count": 3,
   "metadata": {},
   "outputs": [
    {
     "data": {
      "application/javascript": [
       "var spec = {\"$schema\": \"https://vega.github.io/schema/vega-lite/v3.json\", \"mark\": \"point\", \"data\": {\"name\": \"data\", \"values\": [{\"x\": -0.08464576847388305, \"y\": -2.292101726714774, \"t\": 0}, {\"x\": 0.21535122626875394, \"y\": -1.3219649666747073, \"t\": 1}, {\"x\": -0.329521137311764, \"y\": -0.27624633585615743, \"t\": 2}, {\"x\": 0.0094549488754799, \"y\": -0.04490340911971162, \"t\": 3}, {\"x\": 1.031494161239078, \"y\": -1.0452928358284574, \"t\": 4}]}, \"encoding\": {\"x\": {\"type\": \"quantitative\", \"field\": \"x\"}, \"y\": {\"type\": \"quantitative\", \"field\": \"y\"}}};\n",
       "var opt = {};\n",
       "var type = \"vega-lite\";\n",
       "var id = \"4226747f-92d2-4689-b71c-e0bdc09ca6c7\";\n",
       "\n",
       "var output_area = this;\n",
       "\n",
       "require([\"nbextensions/jupyter-vega/index\"], function(vega) {\n",
       "  var target = document.createElement(\"div\");\n",
       "  target.id = id;\n",
       "  target.className = \"vega-embed\";\n",
       "\n",
       "  var style = document.createElement(\"style\");\n",
       "  style.textContent = [\n",
       "    \".vega-embed .error p {\",\n",
       "    \"  color: firebrick;\",\n",
       "    \"  font-size: 14px;\",\n",
       "    \"}\",\n",
       "  ].join(\"\\\\n\");\n",
       "\n",
       "  // element is a jQuery wrapped DOM element inside the output area\n",
       "  // see http://ipython.readthedocs.io/en/stable/api/generated/\\\n",
       "  // IPython.display.html#IPython.display.Javascript.__init__\n",
       "  element[0].appendChild(target);\n",
       "  element[0].appendChild(style);\n",
       "\n",
       "  vega.render(\"#\" + id, spec, type, opt, output_area);\n",
       "}, function (err) {\n",
       "  if (err.requireType !== \"scripterror\") {\n",
       "    throw(err);\n",
       "  }\n",
       "});\n"
      ],
      "text/plain": [
       "<vega.vegalite.VegaLite at 0x106467390>"
      ]
     },
     "execution_count": 3,
     "metadata": {
      "jupyter-vega": "#4226747f-92d2-4689-b71c-e0bdc09ca6c7"
     },
     "output_type": "execute_result"
    },
    {
     "data": {
      "image/png": "[encoded data removed]"
     },
     "metadata": {
      "jupyter-vega": "#4226747f-92d2-4689-b71c-e0bdc09ca6c7"
     },
     "output_type": "display_data"
    }
   ],
   "source": [
    "from vega import VegaLite\n",
    "VegaLite(spec=spec_with_data)"
   ]
  },
  {
   "cell_type": "markdown",
   "metadata": {},
   "source": [
    "# Vega Plot with dynamic updates\n",
    "\n",
    "**TODO:** describe the outcome"
   ]
  },
  {
   "cell_type": "code",
   "execution_count": 4,
   "metadata": {},
   "outputs": [
    {
     "data": {
      "application/vnd.jupyter.widget-view+json": {
       "model_id": "d6c0ab2005d849dc8aca0e2201ac7abd",
       "version_major": 2,
       "version_minor": 0
      },
      "text/plain": [
       "VegaWidget()"
      ]
     },
     "metadata": {},
     "output_type": "display_data"
    }
   ],
   "source": [
    "from vega.widget import VegaWidget\n",
    "\n",
    "widget = VegaWidget(spec=spec_no_data)\n",
    "\n",
    "\n",
    "values = [\n",
    "    dict(\n",
    "        x=random.gauss(0.0, 1.0),\n",
    "        y=random.gauss(0.0, 1.0),\n",
    "        t=0,\n",
    "    )\n",
    "    for _ in range(10)\n",
    "]\n",
    "\n",
    "display(widget)\n",
    "widget.update('data', insert=values)"
   ]
  },
  {
   "cell_type": "code",
   "execution_count": 5,
   "metadata": {},
   "outputs": [],
   "source": [
    "from ipywidgets import VBox, Label, Button"
   ]
  },
  {
   "cell_type": "code",
   "execution_count": 6,
   "metadata": {},
   "outputs": [
    {
     "data": {
      "application/vnd.jupyter.widget-view+json": {
       "model_id": "31f27aa1892640c29e351fddbfa6ba5b",
       "version_major": 2,
       "version_minor": 0
      },
      "text/plain": [
       "VBox(children=(Label(value='Vega plot embedded in another widget'), VegaWidget(), Button(description='Add new …"
      ]
     },
     "metadata": {},
     "output_type": "display_data"
    }
   ],
   "source": [
    "plot = VegaWidget(spec=spec_with_data)\n",
    "button = Button(description=\"Add new data point\")\n",
    "\n",
    "t = 5\n",
    "\n",
    "@button.on_click\n",
    "def on_click_handler(*_):\n",
    "    global t\n",
    "    \n",
    "    value = dict(\n",
    "        x=random.gauss(0.0, 1.0),\n",
    "        y=random.gauss(0.0, 1.0),\n",
    "        t=t,\n",
    "    )\n",
    "    plot.update('data', insert=[value], remove=f'datum.t <= {t - 5}')\n",
    "    t += 1\n",
    "\n",
    "VBox([Label(\"Vega plot embedded in another widget\"), plot, button])"
   ]
  },
  {
   "cell_type": "code",
   "execution_count": null,
   "metadata": {},
   "outputs": [],
   "source": []
  }
 ],
 "metadata": {
  "kernelspec": {
   "display_name": "Python 3",
   "language": "python",
   "name": "python3"
  },
  "language_info": {
   "codemirror_mode": {
    "name": "ipython",
    "version": 3
   },
   "file_extension": ".py",
   "mimetype": "text/x-python",
   "name": "python",
   "nbconvert_exporter": "python",
   "pygments_lexer": "ipython3",
   "version": "3.7.3"
  },
  "widgets": {
   "application/vnd.jupyter.widget-state+json": {
    "state": {
     "110e29a5d24d4668a6e7332fbd02a3d8": {
      "model_module": "@jupyter-widgets/controls",
      "model_module_version": "1.4.0",
      "model_name": "ButtonModel",
      "state": {
       "description": "Add new data point",
       "layout": "IPY_MODEL_6528b5b0fb2a4664be973dfafefcac95",
       "style": "IPY_MODEL_b77f19a2ab7f43808ef2384043455ca4"
      }
     },
     "25a0b3e846094e47ad5a92bca1310718": {
      "model_module": "@jupyter-widgets/base",
      "model_module_version": "1.1.0",
      "model_name": "LayoutModel",
      "state": {}
     },
     "31f27aa1892640c29e351fddbfa6ba5b": {
      "model_module": "@jupyter-widgets/controls",
      "model_module_version": "1.4.0",
      "model_name": "VBoxModel",
      "state": {
       "children": [
        "IPY_MODEL_e347415012c640109b7e923179dda932",
        "IPY_MODEL_7950835d2d9941b191414f059cd4b01f",
        "IPY_MODEL_110e29a5d24d4668a6e7332fbd02a3d8"
       ],
       "layout": "IPY_MODEL_47e26debba774c78b1ed870b2a6ed5ce"
      }
     },
     "43e6fafb616948f1bd2f8cc9c5501f84": {
      "model_module": "@jupyter-widgets/base",
      "model_module_version": "1.1.0",
      "model_name": "LayoutModel",
      "state": {}
     },
     "47e26debba774c78b1ed870b2a6ed5ce": {
      "model_module": "@jupyter-widgets/base",
      "model_module_version": "1.1.0",
      "model_name": "LayoutModel",
      "state": {}
     },
     "6528b5b0fb2a4664be973dfafefcac95": {
      "model_module": "@jupyter-widgets/base",
      "model_module_version": "1.1.0",
      "model_name": "LayoutModel",
      "state": {}
     },
     "7950835d2d9941b191414f059cd4b01f": {
      "model_module": "@jupyter-widgets/base",
      "model_module_version": "1.1.0",
      "model_name": "DOMWidgetModel",
      "state": {
       "_model_name": "DOMWidgetModel",
       "_spec_source": "{\"$schema\": \"https://vega.github.io/schema/vega-lite/v3.json\", \"mark\": \"point\", \"data\": {\"name\": \"data\", \"values\": [{\"x\": -0.08464576847388305, \"y\": -2.292101726714774, \"t\": 0}, {\"x\": 0.21535122626875394, \"y\": -1.3219649666747073, \"t\": 1}, {\"x\": -0.329521137311764, \"y\": -0.27624633585615743, \"t\": 2}, {\"x\": 0.0094549488754799, \"y\": -0.04490340911971162, \"t\": 3}, {\"x\": 1.031494161239078, \"y\": -1.0452928358284574, \"t\": 4}]}, \"encoding\": {\"x\": {\"type\": \"quantitative\", \"field\": \"x\"}, \"y\": {\"type\": \"quantitative\", \"field\": \"y\"}}}",
       "_view_module": "nbextensions/jupyter-vega/index",
       "_view_module_version": "0.1.0",
       "_view_name": "VegaWidget",
       "layout": "IPY_MODEL_43e6fafb616948f1bd2f8cc9c5501f84"
      }
     },
     "b77f19a2ab7f43808ef2384043455ca4": {
      "model_module": "@jupyter-widgets/controls",
      "model_module_version": "1.4.0",
      "model_name": "ButtonStyleModel",
      "state": {}
     },
     "d6c0ab2005d849dc8aca0e2201ac7abd": {
      "model_module": "@jupyter-widgets/base",
      "model_module_version": "1.1.0",
      "model_name": "DOMWidgetModel",
      "state": {
       "_model_name": "DOMWidgetModel",
       "_spec_source": "{\"$schema\": \"https://vega.github.io/schema/vega-lite/v3.json\", \"mark\": \"point\", \"data\": {\"name\": \"data\", \"values\": []}, \"encoding\": {\"x\": {\"type\": \"quantitative\", \"field\": \"x\"}, \"y\": {\"type\": \"quantitative\", \"field\": \"y\"}}}",
       "_view_module": "nbextensions/jupyter-vega/index",
       "_view_module_version": "0.1.0",
       "_view_name": "VegaWidget",
       "layout": "IPY_MODEL_25a0b3e846094e47ad5a92bca1310718"
      }
     },
     "d98c8303019946e8a1c4418dc1567dfb": {
      "model_module": "@jupyter-widgets/base",
      "model_module_version": "1.1.0",
      "model_name": "LayoutModel",
      "state": {}
     },
     "e347415012c640109b7e923179dda932": {
      "model_module": "@jupyter-widgets/controls",
      "model_module_version": "1.4.0",
      "model_name": "LabelModel",
      "state": {
       "layout": "IPY_MODEL_d98c8303019946e8a1c4418dc1567dfb",
       "style": "IPY_MODEL_f172b5db1e6a482981fa8c546b18164f",
       "value": "Vega plot embedded in another widget"
      }
     },
     "f172b5db1e6a482981fa8c546b18164f": {
      "model_module": "@jupyter-widgets/controls",
      "model_module_version": "1.4.0",
      "model_name": "DescriptionStyleModel",
      "state": {
       "description_width": ""
      }
     }
    },
    "version_major": 2,
    "version_minor": 0
   }
  }
 },
 "nbformat": 4,
 "nbformat_minor": 2
}
