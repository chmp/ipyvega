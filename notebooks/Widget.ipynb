{
 "cells": [
  {
   "cell_type": "code",
   "execution_count": 1,
   "metadata": {},
   "outputs": [],
   "source": [
    "import random\n",
    "import time"
   ]
  },
  {
   "cell_type": "code",
   "execution_count": 2,
   "metadata": {},
   "outputs": [],
   "source": [
    "spec = {\n",
    "    \"$schema\": \"https://vega.github.io/schema/vega-lite/v3.json\",\n",
    "    \"mark\": \"point\",\n",
    "    \"data\": {\n",
    "        \"name\": \"data\",\n",
    "        \"values\": [\n",
    "            {\"x\": random.gauss(0, 1), \"y\": random.gauss(0, 1), \"t\": t}\n",
    "            for t in range(20)\n",
    "        ],\n",
    "    },\n",
    "    \"encoding\": {\n",
    "        \"x\": {\"type\": \"quantitative\", \"field\": \"x\"},\n",
    "        \"y\": {\"type\": \"quantitative\", \"field\": \"y\"},\n",
    "    }\n",
    "}"
   ]
  },
  {
   "cell_type": "markdown",
   "metadata": {},
   "source": [
    "# Static Vega Plot"
   ]
  },
  {
   "cell_type": "code",
   "execution_count": 3,
   "metadata": {},
   "outputs": [
    {
     "data": {
      "application/javascript": [
       "var spec = {\"$schema\": \"https://vega.github.io/schema/vega-lite/v3.json\", \"mark\": \"point\", \"data\": {\"name\": \"data\", \"values\": [{\"x\": -2.003878573414796, \"y\": 2.551144996503457, \"t\": 0}, {\"x\": -0.5264556305557488, \"y\": -0.07492025119427244, \"t\": 1}, {\"x\": -0.44327160343480015, \"y\": 0.9409779577129561, \"t\": 2}, {\"x\": 1.157402872748045, \"y\": -2.376688095132469, \"t\": 3}, {\"x\": 1.157317912204645, \"y\": 0.7764670063026258, \"t\": 4}, {\"x\": 0.10852044945866061, \"y\": 0.9766937806507419, \"t\": 5}, {\"x\": 0.8762736457010277, \"y\": -2.023199275503419, \"t\": 6}, {\"x\": 0.5645508607584074, \"y\": -0.21204371365258617, \"t\": 7}, {\"x\": -0.36795839672487696, \"y\": 1.507348415866412, \"t\": 8}, {\"x\": -0.1572265824817004, \"y\": -1.3091103461488627, \"t\": 9}, {\"x\": 2.0362196181584, \"y\": -1.13464094626264, \"t\": 10}, {\"x\": 0.5989775385124665, \"y\": -0.1156469048238262, \"t\": 11}, {\"x\": 0.012373858278741155, \"y\": 0.7670527529377923, \"t\": 12}, {\"x\": -1.1161918770051729, \"y\": -0.5837710732119704, \"t\": 13}, {\"x\": -0.7815895391521911, \"y\": -0.22638739440454408, \"t\": 14}, {\"x\": -0.27547661489953723, \"y\": -1.6535254399432888, \"t\": 15}, {\"x\": -0.16876951473476218, \"y\": -0.11398692478148775, \"t\": 16}, {\"x\": -1.0972067959524185, \"y\": 1.0588766372997218, \"t\": 17}, {\"x\": -1.4766294390920018, \"y\": 0.5811769030002235, \"t\": 18}, {\"x\": 0.4124825985184064, \"y\": 0.12757436600576985, \"t\": 19}]}, \"encoding\": {\"x\": {\"type\": \"quantitative\", \"field\": \"x\"}, \"y\": {\"type\": \"quantitative\", \"field\": \"y\"}}};\n",
       "var opt = {};\n",
       "var type = \"vega-lite\";\n",
       "var id = \"78d14d5a-825b-453e-b144-5fce071ecb65\";\n",
       "\n",
       "var output_area = this;\n",
       "\n",
       "require([\"nbextensions/jupyter-vega/index\"], function(vega) {\n",
       "  var target = document.createElement(\"div\");\n",
       "  target.id = id;\n",
       "  target.className = \"vega-embed\";\n",
       "\n",
       "  var style = document.createElement(\"style\");\n",
       "  style.textContent = [\n",
       "    \".vega-embed .error p {\",\n",
       "    \"  color: firebrick;\",\n",
       "    \"  font-size: 14px;\",\n",
       "    \"}\",\n",
       "  ].join(\"\\\\n\");\n",
       "\n",
       "  // element is a jQuery wrapped DOM element inside the output area\n",
       "  // see http://ipython.readthedocs.io/en/stable/api/generated/\\\n",
       "  // IPython.display.html#IPython.display.Javascript.__init__\n",
       "  element[0].appendChild(target);\n",
       "  element[0].appendChild(style);\n",
       "\n",
       "  vega.render(\"#\" + id, spec, type, opt, output_area);\n",
       "}, function (err) {\n",
       "  if (err.requireType !== \"scripterror\") {\n",
       "    throw(err);\n",
       "  }\n",
       "});\n"
      ],
      "text/plain": [
       "<vega.vegalite.VegaLite at 0x10df46630>"
      ]
     },
     "execution_count": 3,
     "metadata": {
      "jupyter-vega": "#78d14d5a-825b-453e-b144-5fce071ecb65"
     },
     "output_type": "execute_result"
    },
    {
     "data": {
      "image/png": "[encoded data removed]"
     },
     "metadata": {
      "jupyter-vega": "#78d14d5a-825b-453e-b144-5fce071ecb65"
     },
     "output_type": "display_data"
    }
   ],
   "source": [
    "from vega import VegaLite\n",
    "VegaLite(spec=spec)"
   ]
  },
  {
   "cell_type": "markdown",
   "metadata": {},
   "source": [
    "# Vega Plot with dynamic updates"
   ]
  },
  {
   "cell_type": "code",
   "execution_count": 4,
   "metadata": {},
   "outputs": [
    {
     "data": {
      "application/vnd.jupyter.widget-view+json": {
       "model_id": "6798ae8b0d4a44bdab40e1f1dd9206aa",
       "version_major": 2,
       "version_minor": 0
      },
      "text/plain": [
       "VegaWidget()"
      ]
     },
     "metadata": {},
     "output_type": "display_data"
    }
   ],
   "source": [
    "from vega.widget import VegaWidget\n",
    "\n",
    "widget = VegaWidget(spec=spec)\n",
    "display(widget)\n",
    "\n",
    "# update the plot dynamically\n",
    "for t in range(20, 30):\n",
    "    value = dict(\n",
    "        x=random.gauss(0.0, 1.0),\n",
    "        y=random.gauss(0.0, 1.0),\n",
    "        t=t,\n",
    "    )\n",
    "    widget.update('data', remove=f'datum.t < {t - 10}', insert=[value])\n",
    "    time.sleep(0.1)"
   ]
  },
  {
   "cell_type": "code",
   "execution_count": 5,
   "metadata": {},
   "outputs": [],
   "source": [
    "from ipywidgets import VBox, Label, Button"
   ]
  },
  {
   "cell_type": "code",
   "execution_count": 6,
   "metadata": {},
   "outputs": [
    {
     "data": {
      "application/vnd.jupyter.widget-view+json": {
       "model_id": "83eff089e3a24f72b6931692a2214bb4",
       "version_major": 2,
       "version_minor": 0
      },
      "text/plain": [
       "VBox(children=(Label(value='Vega plot embedded in another widget'), VegaWidget(), Button(description='Add new …"
      ]
     },
     "metadata": {},
     "output_type": "display_data"
    }
   ],
   "source": [
    "plot = VegaWidget(spec=spec)\n",
    "button = Button(description=\"Add new data point\")\n",
    "\n",
    "@button.on_click\n",
    "def on_click_handler(*_):\n",
    "    value = dict(\n",
    "        x=random.gauss(0.0, 1.0),\n",
    "        y=random.gauss(0.0, 1.0),\n",
    "    )\n",
    "    plot.update('data', insert=[value])\n",
    "\n",
    "VBox([Label(\"Vega plot embedded in another widget\"), plot, button])"
   ]
  },
  {
   "cell_type": "code",
   "execution_count": null,
   "metadata": {},
   "outputs": [],
   "source": []
  }
 ],
 "metadata": {
  "kernelspec": {
   "display_name": "Python 3",
   "language": "python",
   "name": "python3"
  },
  "language_info": {
   "codemirror_mode": {
    "name": "ipython",
    "version": 3
   },
   "file_extension": ".py",
   "mimetype": "text/x-python",
   "name": "python",
   "nbconvert_exporter": "python",
   "pygments_lexer": "ipython3",
   "version": "3.7.3"
  }
 },
 "nbformat": 4,
 "nbformat_minor": 2
}
